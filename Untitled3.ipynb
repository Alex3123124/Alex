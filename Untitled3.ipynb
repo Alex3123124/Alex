{
  "nbformat": 4,
  "nbformat_minor": 0,
  "metadata": {
    "colab": {
      "provenance": [],
      "authorship_tag": "ABX9TyNG5iXc37cgahHlxltt5Nau",
      "include_colab_link": true
    },
    "kernelspec": {
      "name": "python3",
      "display_name": "Python 3"
    },
    "language_info": {
      "name": "python"
    }
  },
  "cells": [
    {
      "cell_type": "markdown",
      "metadata": {
        "id": "view-in-github",
        "colab_type": "text"
      },
      "source": [
        "<a href=\"https://colab.research.google.com/github/Alex3123124/Alex/blob/main/Untitled3.ipynb\" target=\"_parent\"><img src=\"https://colab.research.google.com/assets/colab-badge.svg\" alt=\"Open In Colab\"/></a>"
      ]
    },
    {
      "cell_type": "code",
      "execution_count": null,
      "metadata": {
        "id": "F1jdzCt1JM28"
      },
      "outputs": [],
      "source": [
        "import java.io.BufferedReader;\n",
        "import java.io.FileReader;\n",
        "import java.io.IOException;\n",
        "import java.util.HashMap;\n",
        "import java.util.Map;\n",
        "\n",
        "public class Пикник {\n",
        "\n",
        "    public static void main(String[] args) {\n",
        "        String fileName = \"input.txt\"; // Имя вашего файла\n",
        "\n",
        "        try (BufferedReader reader = new BufferedReader(new FileReader(fileName))) {\n",
        "            // 1. Подсчет слов\n",
        "            int countWords = 0;\n",
        "            String line;\n",
        "            while ((line = reader.readLine()) != null) {\n",
        "                String[] words = line.split(\"\\\\s+\"); // Разделяем слова пробелами\n",
        "                countWords += words.length;\n",
        "            }\n",
        "            System.out.println(\"Количество слов в файле: \" + countWords);\n",
        "\n",
        "            // 2. Самое длинное слово\n",
        "            reader.close(); // Закрываем и снова открываем файл\n",
        "            reader = new BufferedReader(new FileReader(fileName));\n",
        "            String longestWord = \"\";\n",
        "            while ((line = reader.readLine()) != null) {\n",
        "                String[] words = line.split(\"\\\\s+\");\n",
        "                for (String word : words) {\n",
        "                    if (word.length() > longestWord.length()) {\n",
        "                        longestWord = word;\n",
        "                    }\n",
        "                }\n",
        "            }\n",
        "            System.out.println(\"Самое длинное слово: \" + longestWord);\n",
        "\n",
        "            // 3. Частота слов\n",
        "            reader.close(); // Закрываем и снова открываем файл\n",
        "            reader = new BufferedReader(new FileReader(fileName));\n",
        "            Map<String, Integer> wordFrequency = new HashMap<>();\n",
        "            while ((line = reader.readLine()) != null) {\n",
        "                String[] words = line.split(\"\\\\s+\");\n",
        "                for (String word : words) {\n",
        "                    if (wordFrequency.containsKey(word)) {\n",
        "                        wordFrequency.put(word, wordFrequency.get(word) + 1);\n",
        "                    } else {\n",
        "                        wordFrequency.put(word, 1);\n",
        "                    }\n",
        "                }\n",
        "            }\n",
        "            System.out.println(\"Частота слов:\");\n",
        "            for (Map.Entry<String, Integer> entry : wordFrequency.entrySet()) {\n",
        "                System.out.println(entry.getKey() + \": \" + entry.getValue());\n",
        "            }\n",
        "\n",
        "        } catch (IOException e) {\n",
        "            System.out.println(\"Ошибка при чтении файла: \" + e.getMessage());\n",
        "        }\n",
        "    }\n",
        "}"
      ]
    }
  ]
}